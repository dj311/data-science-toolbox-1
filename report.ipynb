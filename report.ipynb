{
 "cells": [
  {
   "cell_type": "markdown",
   "metadata": {},
   "source": [
    "# Data Science Toolbox: Literature Review\n",
    "By Shanglin Zou and Daniel Jones\n",
    "\n",
    "We chose to split the work equally, resulting in a 50:50 split of equity between the team:\n",
    "  - Shanglin Zou: 50%\n",
    "  - Daniel Jones: 50%\n",
    "\n",
    "---\n",
    "\n",
    "\n",
    "As part of a literature review, our key aim was to survey both the current and historical landscape of data science and it's relation to cyber-security. This covers a broad set of topics, which we broke down into the following three categories [1]:\n",
    "  1. Classical Statistics\n",
    "  2. Machine Learning\n",
    "  3. Neural Networks\n",
    "  \n",
    "We will aim to implement approaches from a couple of these fields in the practical part of this report.\n",
    " \n",
    "TODO: talk about literature\n",
    "\n",
    "  - What are the broad types of data?\n",
    "  - What are the main types of resource?\n",
    "  - What type of problems can the resources solve?\n",
    "  - Are there any generic data science resources that might be applicable? In what sense are they applicable?\n",
    "  - How might the approach be compared to other approaches, and/or applied across different datasets?"
   ]
  },
  {
   "cell_type": "markdown",
   "metadata": {},
   "source": [
    "## Time-Series Analysis\n",
    "(ARMA)"
   ]
  },
  {
   "cell_type": "markdown",
   "metadata": {},
   "source": [
    "## Classification\n",
    "(k-NN)"
   ]
  },
  {
   "cell_type": "markdown",
   "metadata": {},
   "source": [
    "# References\n",
    "[1]: [Data Science Toolbox, Lecture 01](https://www.ole.bris.ac.uk/bbcswebdav/pid-3554286-dt-content-rid-9984867_2/xid-9984867_2). Daniel Lawson."
   ]
  }
 ],
 "metadata": {
  "kernelspec": {
   "display_name": "Python 3",
   "language": "python",
   "name": "python3"
  },
  "language_info": {
   "codemirror_mode": {
    "name": "ipython",
    "version": 3
   },
   "file_extension": ".py",
   "mimetype": "text/x-python",
   "name": "python",
   "nbconvert_exporter": "python",
   "pygments_lexer": "ipython3",
   "version": "3.6.5"
  }
 },
 "nbformat": 4,
 "nbformat_minor": 2
}
