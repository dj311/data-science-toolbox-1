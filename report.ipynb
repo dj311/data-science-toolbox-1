{
 "cells": [
  {
   "cell_type": "markdown",
   "metadata": {},
   "source": [
    "# Data Science Toolbox: Literature Review\n",
    "By Shanglin Zou and Daniel Jones\n",
    "\n",
    "We chose to divide the work equally, resulting in a corresponding split of equity:\n",
    "  - Shanglin Zou: 50%\n",
    "  - Daniel Jones: 50%\n",
    "\n",
    "---\n",
    "\n",
    "\n",
    "As part of a literature review, our key aim was to survey both the current and historical landscape of data science and it's relation to cyber-security. This covers a broad set of topics, which we broke down into the following three categories [1]:\n",
    "  1. Classical Statistics\n",
    "  2. Machine Learning\n",
    "  3. Neural Networks\n",
    "  \n",
    "We will aim to implement approaches from a couple of these fields in the practical part of this report.\n",
    " \n",
    "TODO: talk about literature\n",
    "\n",
    "Survey papers:\n",
    "  - https://ieeexplore.ieee.org/abstract/document/7307098/\n",
    "  - https://www.sciencedirect.com/science/article/pii/S108480451200183X\n",
    "\n",
    "### What are the broad types of data?\n",
    "\n",
    "- Network Analysis\n",
    "  - Common in this area\n",
    "  - secrepo.com provides a number of resources. e.g. http://www.secrepo.com/Datasets%20Description/Network/http.html and http://www.secrepo.com/Datasets%20Description/Network/weird.html\n",
    "     - these use the [bro](https://www.bro.org/) log file format describe here: http://gauss.ececs.uc.edu/Courses/c6055/pdf/bro_log_vars.pdf\n",
    "     - bro citation:\n",
    "     > \n",
    "    Vern Paxson\n",
    "    Bro: A System for Detecting Network Intruders in Real-Time\n",
    "    Computer Networks, 31(23—24), pp. 2435-2463, 1999.\n",
    "    ([BibTeX](https://www.bro.org/research/bro99.bib)) ([PDF](http://www.icir.org/vern/papers/bro-CN99.pdf))\n",
    "- Log Files\n",
    "    \n",
    "- Program Execution Traces:\n",
    "   - Stochastic Identification of Malware with Dynamic Traces (https://arxiv.org/pdf/1404.2462.pdf): Using program runtime traces as a data source and applying Markov chains to classify them as malware. These files are generated and can be read by https://github.com/moyix/panda-malrec (B. Dolan-Gavitt, J. Hodosh, P. Hulin, T. Leek, R. Whelan. Repeatable Reverse Engineering with PANDA. 5th Program Protection and Reverse Engineering Workshop, Los Angeles, California, December 2015.)\n",
    "\n",
    "\n",
    "\n",
    "### What are the main types of resource?\n",
    "We looked at:  books, papers, online tutorials, public code and data repositories.\n",
    "\n",
    "Books:\n",
    " - \"Introduction to Machine Learning\"\n",
    " \n",
    "Papers:\n",
    " \n",
    " - \"Visual Analytics for Model Selection in Time Series Analysis\"\n",
    " \n",
    "Take-aways:\n",
    "  - There are lots of resources on statistics, machine learning and neural networks (within books, papers and online resources) but not many that apply this to cyber-security.\n",
    "  - secrepo.com proved a valuable resource for both data sets, and analysis of those data sources.\n",
    "  - academic papers provided a combination of the two (stats applied to cyber-security data) but code samples were hard to come by\n",
    "  \n",
    "  \n",
    "### What type of problems can the resources solve?\n",
    "\n",
    "### Are there any generic data science resources that might be applicable? In what sense are they applicable?\n",
    "Since there is little introductory material on data science applied to cyber-security, the generic data science resources proved useful to learn the theory behind it's application. Approach: read papers with direct application to cyber-security, and use generic data science resources to fill in knowledge gaps.\n",
    "\n",
    "\"Introduction to Machine learning\" proved to be a useful reference text to learn about k-Nearest-Neighbors classification, since the papers applying it to cyber-security assumed knowledge of the algorithm as a pre-requisite.\n",
    "\n",
    "\"Visual Analytics for Model Selection in Time Series Analysis\" is a good paper to learn model selection in Time series Analysis. The paper shows the steps we need to do when we try to model a time series data. \n",
    "\n",
    "\n",
    "### How might the approach be compared to other approaches, and/or applied across different datasets?\n",
    "For time series approach, we can easily applied it across different datasets. Resampling, testing stationary, differencing, model selection, fitting and prediction are the steps we need to do. However, i think it does not work for analyzing string data(i.e Ip address, Id)."
   ]
  },
  {
   "cell_type": "markdown",
   "metadata": {},
   "source": [
    "## Time-Series Analysis\n",
    "(ARMA)"
   ]
  },
  {
   "cell_type": "markdown",
   "metadata": {},
   "source": [
    "## Classification\n",
    "(k-NN)"
   ]
  },
  {
   "cell_type": "markdown",
   "metadata": {},
   "source": [
    "# References\n",
    "[1]: [Data Science Toolbox, Lecture 01](https://www.ole.bris.ac.uk/bbcswebdav/pid-3554286-dt-content-rid-9984867_2/xid-9984867_2). Daniel Lawson."
   ]
  }
 ],
 "metadata": {
  "kernelspec": {
   "display_name": "Python 3",
   "language": "python",
   "name": "python3"
  },
  "language_info": {
   "codemirror_mode": {
    "name": "ipython",
    "version": 3
   },
   "file_extension": ".py",
   "mimetype": "text/x-python",
   "name": "python",
   "nbconvert_exporter": "python",
   "pygments_lexer": "ipython3",
   "version": "3.7.0"
  }
 },
 "nbformat": 4,
 "nbformat_minor": 2
}
