{
 "cells": [
  {
   "cell_type": "markdown",
   "metadata": {},
   "source": [
    "# Time Series analysis of HTTP Bro Log"
   ]
  },
  {
   "cell_type": "code",
   "execution_count": null,
   "metadata": {},
   "outputs": [],
   "source": [
    "%matplotlib notebook\n",
    "import pandas as pd\n"
   ]
  },
  {
   "cell_type": "markdown",
   "metadata": {},
   "source": [
    "## Data input"
   ]
  },
  {
   "cell_type": "code",
   "execution_count": null,
   "metadata": {},
   "outputs": [],
   "source": [
    "http_df = pd.read_csv(\"resources/http.log.zip\", header=None, sep=\"\\t\", \n",
    "                      names=['ts', 'uid', 'id.orig_h', 'id.orig_p', 'id.resp_h', 'id.resp_p', 'trans_depth', 'method', 'host', 'uri', 'referrer', \n",
    "                             'user_agent', 'request_body_len', 'response_body_len', 'status_code', 'status_msg', 'info_code', 'info_msg', 'filename', 'tags', \n",
    "                             'username', 'password', 'proxied', 'orig_fuids', 'orig_mime_types', 'resp_fuids', 'resp_mime_types', 'sample']) \n",
    "#resources from http://www.secrepo.com/Datasets%20Description/Network/http.html\n",
    "http_df.head()"
   ]
  },
  {
   "cell_type": "markdown",
   "metadata": {},
   "source": [
    "## Timestamp"
   ]
  },
  {
   "cell_type": "code",
   "execution_count": null,
   "metadata": {},
   "outputs": [],
   "source": [
    "#clean up the timestamp column ts\n",
    "from datetime import datetime\n",
    "http_df['ts'] = [datetime.fromtimestamp(float(date)) for date in http_df['ts'].values]\n",
    "http_df = http_df.set_index('ts')\n",
    "http_df.head()\n",
    "# code provided by https://github.com/sooshie/Security-Data-Analysis/blob/master/Lab_2/Lab_2-Solutions.ipynb"
   ]
  },
  {
   "cell_type": "markdown",
   "metadata": {},
   "source": [
    "## Graphing time series data"
   ]
  },
  {
   "cell_type": "code",
   "execution_count": null,
   "metadata": {},
   "outputs": [],
   "source": [
    "%matplotlib notebook\n",
    "import matplotlib.pyplot as plt\n",
    "import numpy as np\n",
    "plt.rcParams['figure.figsize'] = (16.0, 5.0)\n",
    "df = http_df[['request_body_len','response_body_len']]\n",
    "df.plot()\n",
    "df.head\n",
    "np.unique(df['request_body_len'])\n",
    "# request_body_len means Actual uncompressed content size of the data transferred from the client\n",
    "# response_body_len means Actual uncompressed content size of the data transferred from the server  \n",
    "# code provided by https://github.com/sooshie/Security-Data-Analysis/blob/master/Lab_2/Lab_2-Solutions.ipynb"
   ]
  },
  {
   "cell_type": "markdown",
   "metadata": {},
   "source": [
    "The figure above shows the actual umcompressed content size of data from the client and server at the end of month. You can see that blue line is very tiny which means comparing to response, it has very small amount of data size transferred."
   ]
  },
  {
   "cell_type": "markdown",
   "metadata": {},
   "source": [
    "## Resamping data"
   ]
  },
  {
   "cell_type": "code",
   "execution_count": null,
   "metadata": {
    "scrolled": true
   },
   "outputs": [],
   "source": [
    "%matplotlib notebook\n",
    "resamp = df.resample(\"M\", how=['mean', 'count', 'sum']) #\"M\" means month end frequency\n",
    "resamp.plot(subplots=True)\n",
    "# code provided by https://github.com/sooshie/Security-Data-Analysis/blob/master/Lab_2/Lab_2-Solutions.ipynb"
   ]
  },
  {
   "cell_type": "markdown",
   "metadata": {},
   "source": [
    "The graph shows that the data that resampled by mean, number of count, total data size at the end of month"
   ]
  },
  {
   "cell_type": "code",
   "execution_count": null,
   "metadata": {},
   "outputs": [],
   "source": [
    "resamp.plot()"
   ]
  },
  {
   "cell_type": "markdown",
   "metadata": {},
   "source": [
    "Times Series Model-- ARMA(p,q)\n",
    "https://en.wikipedia.org/wiki/Autoregressive–moving-average_model#ARMA_model\n",
    "\n",
    "using ACF and PACF to determine p and q.\n",
    "https://onlinecourses.science.psu.edu/stat510/node/62/\n",
    "\n",
    "ACF and PACF\n",
    "https://machinelearningmastery.com/gentle-introduction-autocorrelation-partial-autocorrelation/\n",
    "\n",
    "Python code for time series\n",
    "https://machinelearningmastery.com/time-series-forecasting-methods-in-python-cheat-sheet/"
   ]
  },
  {
   "cell_type": "markdown",
   "metadata": {},
   "source": [
    "## Try modelling the sum of response_body_len"
   ]
  },
  {
   "cell_type": "markdown",
   "metadata": {},
   "source": [
    "ARMA model is combined by two models which are Autoregressive Model(AR) and Moving Average Model(MA)\n",
    "To determine the order of the model, i.e ARMA(p,q), p and q are the orders of the model, we need to plot the autocorrelation function plot(acf) to determine q, and partial autocorrelation function(pacf) plot to get p's value."
   ]
  },
  {
   "cell_type": "code",
   "execution_count": null,
   "metadata": {},
   "outputs": [],
   "source": [
    "%matplotlib notebook\n",
    "# autocorrelation plot (acf)\n",
    "from pandas.tools.plotting import autocorrelation_plot\n",
    "autocorrelation_plot(resamp['response_body_len']['sum'])"
   ]
  },
  {
   "cell_type": "markdown",
   "metadata": {},
   "source": [
    "By the acf plot, we can get q's value. Q's value depends on how many lags that are beyond the boundaries. \n",
    "According to this plot, we can get that lag 1 and maybe lag 2 are above the boundaries, so we can say that q is equal to 1 or 2. We will modelling the data for each q, and compare the Residual Mean Error Square(rmse) of each model. "
   ]
  },
  {
   "cell_type": "code",
   "execution_count": null,
   "metadata": {},
   "outputs": [],
   "source": [
    "# pacf partial autocorrelation func\n",
    "from statsmodels.graphics.tsaplots import plot_pacf\n",
    "plot_pacf(resamp['response_body_len']['sum']) "
   ]
  },
  {
   "cell_type": "markdown",
   "metadata": {},
   "source": [
    "Similarly, we can use pacf to determine the p value by the same way. \n",
    "\n",
    "Unfortunatly, there are too many values that are larger than 1 or less than -1, i don't think it is ar model.\n",
    "\n",
    "Therefore we could say that it is a MA model with q=1 or 2"
   ]
  },
  {
   "cell_type": "markdown",
   "metadata": {},
   "source": [
    "## Fit model and predict"
   ]
  },
  {
   "cell_type": "markdown",
   "metadata": {},
   "source": [
    "### Set Train and Test data\n",
    "\n",
    "we have 37 months of data, we set first 34 months as training data, and last 3 months as test data."
   ]
  },
  {
   "cell_type": "code",
   "execution_count": null,
   "metadata": {},
   "outputs": [],
   "source": [
    "#train data\n",
    "train = resamp['response_body_len']['sum'][0:34]\n",
    "test = resamp['response_body_len']['sum'][34:37]"
   ]
  },
  {
   "cell_type": "code",
   "execution_count": null,
   "metadata": {},
   "outputs": [],
   "source": [
    "# MA \n",
    "from statsmodels.tsa.arima_model import ARMA\n",
    "# fit model q=2\n",
    "model = ARMA(train, order=(0, 2))\n",
    "model_fit = model.fit(disp=False)\n",
    "# make prediction\n",
    "yhat = model_fit.predict(len(train),(len(resamp)-1))\n",
    "print(yhat)\n",
    "#Residual MSE\n",
    "import math\n",
    "from sklearn.metrics import mean_squared_error\n",
    "rms = math.sqrt(mean_squared_error(test, yhat))\n",
    "print(rms)"
   ]
  },
  {
   "cell_type": "code",
   "execution_count": null,
   "metadata": {},
   "outputs": [],
   "source": [
    "# fit model q=1\n",
    "model = ARMA(train, order=(0, 1))\n",
    "model_fit = model.fit(disp=False)\n",
    "# make prediction\n",
    "yhat = model_fit.predict(len(train),(len(resamp)-1))\n",
    "print(yhat)\n",
    "#Residual MSE\n",
    "import math\n",
    "from sklearn.metrics import mean_squared_error\n",
    "rms = math.sqrt(mean_squared_error(test, yhat))\n",
    "print(rms)"
   ]
  },
  {
   "cell_type": "markdown",
   "metadata": {},
   "source": [
    "comparing two rms, we can get that if q = 1, rmse is smaller. so we choose q = 1"
   ]
  }
 ],
 "metadata": {
  "kernelspec": {
   "display_name": "Python 3",
   "language": "python",
   "name": "python3"
  },
  "language_info": {
   "codemirror_mode": {
    "name": "ipython",
    "version": 3
   },
   "file_extension": ".py",
   "mimetype": "text/x-python",
   "name": "python",
   "nbconvert_exporter": "python",
   "pygments_lexer": "ipython3",
   "version": "3.7.0"
  }
 },
 "nbformat": 4,
 "nbformat_minor": 2
}
